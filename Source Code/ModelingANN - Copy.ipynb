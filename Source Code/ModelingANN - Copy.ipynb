{
 "cells": [
  {
   "cell_type": "code",
   "execution_count": 1,
   "metadata": {
    "id": "1aW94nNB_oOw"
   },
   "outputs": [],
   "source": [
    "import pandas as pd\n",
    "import numpy as np\n",
    "import tensorflow as tf\n",
    "import matplotlib.pyplot as plt"
   ]
  },
  {
   "cell_type": "code",
   "execution_count": 2,
   "metadata": {
    "id": "IhTrz0oIACvM"
   },
   "outputs": [],
   "source": [
    "X_train = pd.read_csv(\"X_train.csv\")\n",
    "X_test = pd.read_csv(\"X_test.csv\")\n",
    "y_train = pd.read_csv(\"y_train.csv\")\n",
    "y_test = pd.read_csv(\"y_test.csv\")"
   ]
  },
  {
   "cell_type": "code",
   "execution_count": 3,
   "metadata": {
    "id": "PggQot1yAj1l"
   },
   "outputs": [],
   "source": [
    "early_stopping = tf.keras.callbacks.EarlyStopping(\n",
    "    monitor='val_loss',\n",
    "    patience=7,\n",
    "    mode='min',\n",
    "    restore_best_weights=True\n",
    "    )"
   ]
  },
  {
   "cell_type": "markdown",
   "metadata": {
    "id": "2ow6Q-esI-M2"
   },
   "source": [
    "# Optimasi"
   ]
  },
  {
   "cell_type": "code",
   "execution_count": 4,
   "metadata": {
    "id": "YkU5oJaB_eH4"
   },
   "outputs": [
    {
     "name": "stderr",
     "output_type": "stream",
     "text": [
      "WARNING:absl:You are saving your model as an HDF5 file via `model.save()` or `keras.saving.save_model(model)`. This file format is considered legacy. We recommend using instead the native Keras format, e.g. `model.save('my_model.keras')` or `keras.saving.save_model(model, 'my_model.keras')`. \n"
     ]
    },
    {
     "name": "stdout",
     "output_type": "stream",
     "text": [
      "Parameter terbaik: {'hidden_layers': 4, 'nodes': [11, 53, 90, 112, 104, 116], 'activation': ['tanh', 'tanh', 'relu', 'relu', 'tanh', 'tanh'], 'optimizer': 'adam'}\n"
     ]
    }
   ],
   "source": [
    "from tensorflow.keras.models import Sequential\n",
    "from tensorflow.keras.layers import Dense, Input\n",
    "from tensorflow.keras.optimizers import Adam, SGD, RMSprop\n",
    "from tensorflow.keras.metrics import R2Score\n",
    "import numpy as np\n",
    "import tensorflow as tf\n",
    "\n",
    "from niapy.problems import Problem\n",
    "from niapy.task import OptimizationType, Task\n",
    "from niapy.algorithms.basic import ArtificialBeeColonyAlgorithm\n",
    "\n",
    "def get_hyperparameters(x):\n",
    "    hidden_layers_choices = (1, 2, 3, 4, 5)\n",
    "    nodes_choices = (8, 16, 32, 64, 128)\n",
    "    activation_choices = ('relu', 'tanh', 'gelu')\n",
    "    optimizer_choices = ('adam', 'sgd', 'rmsprop')\n",
    "\n",
    "    hidden_layers = int(3 + x[0] * 2)\n",
    "    nodes = []\n",
    "    for i in range(6):\n",
    "      temp = int(8 + x[i+1] * 120)\n",
    "      nodes.append(temp)\n",
    "    activation_layer = []\n",
    "    for i in range(6):\n",
    "      temp1 = activation_choices[int(x[i+7] * 2)]\n",
    "      activation_layer.append(temp1)\n",
    "    # activation = activation_choices[int(x[7] * 2)]\n",
    "    optimizer = optimizer_choices[int(x[13] * 2)]\n",
    "    params = {\n",
    "        'hidden_layers': hidden_layers,\n",
    "        'nodes': nodes,\n",
    "        'activation': activation_layer,\n",
    "        'optimizer': optimizer\n",
    "    }\n",
    "    return params\n",
    "\n",
    "def get_model(x, input_shape):\n",
    "    params = get_hyperparameters(x)\n",
    "\n",
    "    model = Sequential()\n",
    "\n",
    "    # Input layer\n",
    "    model.add(Input(shape=input_shape))\n",
    "    model.add(Dense(params['nodes'][0],\n",
    "                   activation=params['activation'][0]))\n",
    "\n",
    "    # Hidden layers\n",
    "    for _ in range(params['hidden_layers'] - 1):\n",
    "        model.add(Dense(params['nodes'][_+1],\n",
    "                       activation=params['activation'][_+1]))\n",
    "\n",
    "    # Output layer\n",
    "    model.add(Dense(1, activation='linear'))  # untuk regresi\n",
    "\n",
    "    # Set optimizer\n",
    "    if params['optimizer'] == 'adam':\n",
    "        opt = Adam()\n",
    "    elif params['optimizer'] == 'sgd':\n",
    "        opt = SGD()\n",
    "    else:\n",
    "        opt = RMSprop()\n",
    "\n",
    "    # Compile model\n",
    "    model.compile(optimizer=opt, loss='mse', metrics=[R2Score()])\n",
    "\n",
    "    return model\n",
    "\n",
    "best_val_loss = np.inf\n",
    "\n",
    "class ANNHyperparameterOptimization(Problem):\n",
    "    def __init__(self, X_train, y_train):\n",
    "        super().__init__(dimension=14, lower=0, upper=1)\n",
    "        self.X_train = X_train\n",
    "        self.y_train = y_train\n",
    "\n",
    "    def _evaluate(self, x):\n",
    "        global best_val_loss\n",
    "    # Buat model dengan parameter dari solusi x\n",
    "        model = get_model(x, input_shape=(self.X_train.shape[1],))\n",
    "\n",
    "        \n",
    "            # Train model\n",
    "        history = model.fit(\n",
    "            self.X_train, self.y_train,\n",
    "            epochs=100,\n",
    "            batch_size=32,\n",
    "            validation_split=0.2,\n",
    "            verbose=0,\n",
    "            callbacks=[early_stopping]\n",
    "        )\n",
    "\n",
    "            # Gunakan R² validation terakhir sebagai fitness\n",
    "            # Karena kita ingin memaksimalkan, kita kembalikan nilai positif\n",
    "        val_loss = history.history['val_loss'][-1]\n",
    "\n",
    "        if val_loss < best_val_loss:\n",
    "            best_val_loss = val_loss\n",
    "            df_history = pd.DataFrame(history.history)\n",
    "            df_history.to_csv('training_history10n.csv', index=False)\n",
    "            model.save('best_model10n.h5')\n",
    "        \n",
    "        return val_loss\n",
    "\n",
    "# Inisialisasi problem\n",
    "problem = ANNHyperparameterOptimization(X_train, y_train)\n",
    "\n",
    "# Setup task untuk optimasi (minimasi MSE)\n",
    "task = Task(problem, max_iters=20, optimization_type=OptimizationType.MINIMIZATION)\n",
    "\n",
    "# Inisialisasi algoritma ABC\n",
    "algorithm = ArtificialBeeColonyAlgorithm(\n",
    "    population_size=10\n",
    ")\n",
    "\n",
    "# Jalankan optimasi\n",
    "best_params, best_fitness = algorithm.run(task)\n",
    "\n",
    "konvergen_data = task.convergence_data()\n",
    "df_konvergen = pd.DataFrame(konvergen_data)\n",
    "df_konvergen.to_csv('konvergen_data10n.csv', index=False)\n",
    "\n",
    "# Dapatkan parameter terbaik\n",
    "best_hyperparameters = get_hyperparameters(best_params)\n",
    "print('Parameter terbaik:', best_hyperparameters)\n"
   ]
  },
  {
   "cell_type": "code",
   "execution_count": 5,
   "metadata": {},
   "outputs": [],
   "source": [
    "# best_model.save('best_model50nn.h5')"
   ]
  },
  {
   "cell_type": "code",
   "execution_count": 6,
   "metadata": {},
   "outputs": [
    {
     "name": "stdout",
     "output_type": "stream",
     "text": [
      "{'population_size': 10, 'initialization_function': <function default_individual_init at 0x0000018A5147AA20>, 'individual_type': <class 'niapy.algorithms.basic.abc.SolutionABC'>, 'callbacks': <niapy.callbacks.CallbackList object at 0x0000018A26288380>, 'rng': Generator(PCG64) at 0x18A512D6EA0, 'exception': None, 'limit': 100, 'food_number': 5}\n"
     ]
    }
   ],
   "source": [
    "print(vars(algorithm))"
   ]
  }
 ],
 "metadata": {
  "colab": {
   "provenance": []
  },
  "kernelspec": {
   "display_name": "Python 3",
   "name": "python3"
  },
  "language_info": {
   "codemirror_mode": {
    "name": "ipython",
    "version": 3
   },
   "file_extension": ".py",
   "mimetype": "text/x-python",
   "name": "python",
   "nbconvert_exporter": "python",
   "pygments_lexer": "ipython3",
   "version": "3.12.3"
  }
 },
 "nbformat": 4,
 "nbformat_minor": 0
}
