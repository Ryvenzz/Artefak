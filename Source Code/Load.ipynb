{
 "cells": [
  {
   "cell_type": "code",
   "execution_count": 164,
   "metadata": {},
   "outputs": [],
   "source": [
    "import pandas as pd\n",
    "import numpy as np\n",
    "import tensorflow as tf\n",
    "import matplotlib.pyplot as plt\n",
    "from tensorflow.keras.models import load_model\n",
    "from sklearn.metrics import mean_squared_error, r2_score\n"
   ]
  },
  {
   "cell_type": "code",
   "execution_count": 165,
   "metadata": {},
   "outputs": [],
   "source": [
    "X_test = pd.read_csv(\"X_test.csv\")\n",
    "X_train = pd.read_csv(\"X_train.csv\")\n",
    "y_test = pd.read_csv(\"y_test.csv\")\n",
    "y_train = pd.read_csv(\"y_train.csv\")"
   ]
  },
  {
   "cell_type": "code",
   "execution_count": 166,
   "metadata": {},
   "outputs": [
    {
     "name": "stderr",
     "output_type": "stream",
     "text": [
      "WARNING:absl:Compiled the loaded model, but the compiled metrics have yet to be built. `model.compile_metrics` will be empty until you train or evaluate the model.\n",
      "WARNING:absl:Compiled the loaded model, but the compiled metrics have yet to be built. `model.compile_metrics` will be empty until you train or evaluate the model.\n",
      "WARNING:absl:Compiled the loaded model, but the compiled metrics have yet to be built. `model.compile_metrics` will be empty until you train or evaluate the model.\n",
      "WARNING:absl:Compiled the loaded model, but the compiled metrics have yet to be built. `model.compile_metrics` will be empty until you train or evaluate the model.\n",
      "WARNING:absl:Compiled the loaded model, but the compiled metrics have yet to be built. `model.compile_metrics` will be empty until you train or evaluate the model.\n"
     ]
    }
   ],
   "source": [
    "best_model10 = load_model('best_model10n.h5', custom_objects={'mse': mean_squared_error})\n",
    "best_model20 = load_model('best_model20n.h5', custom_objects={'mse': mean_squared_error})\n",
    "best_model30 = load_model('best_model30n.h5', custom_objects={'mse': mean_squared_error})\n",
    "best_model40 = load_model('best_model40n.h5', custom_objects={'mse': mean_squared_error})\n",
    "best_model50 = load_model('best_model50n.h5', custom_objects={'mse': mean_squared_error})\n"
   ]
  },
  {
   "cell_type": "code",
   "execution_count": 167,
   "metadata": {},
   "outputs": [
    {
     "name": "stderr",
     "output_type": "stream",
     "text": [
      "WARNING:absl:Compiled the loaded model, but the compiled metrics have yet to be built. `model.compile_metrics` will be empty until you train or evaluate the model.\n",
      "WARNING:absl:Compiled the loaded model, but the compiled metrics have yet to be built. `model.compile_metrics` will be empty until you train or evaluate the model.\n",
      "WARNING:absl:Compiled the loaded model, but the compiled metrics have yet to be built. `model.compile_metrics` will be empty until you train or evaluate the model.\n",
      "WARNING:absl:Compiled the loaded model, but the compiled metrics have yet to be built. `model.compile_metrics` will be empty until you train or evaluate the model.\n",
      "WARNING:absl:Compiled the loaded model, but the compiled metrics have yet to be built. `model.compile_metrics` will be empty until you train or evaluate the model.\n",
      "WARNING:absl:Compiled the loaded model, but the compiled metrics have yet to be built. `model.compile_metrics` will be empty until you train or evaluate the model.\n",
      "WARNING:absl:Compiled the loaded model, but the compiled metrics have yet to be built. `model.compile_metrics` will be empty until you train or evaluate the model.\n",
      "WARNING:absl:Compiled the loaded model, but the compiled metrics have yet to be built. `model.compile_metrics` will be empty until you train or evaluate the model.\n",
      "WARNING:absl:Compiled the loaded model, but the compiled metrics have yet to be built. `model.compile_metrics` will be empty until you train or evaluate the model.\n"
     ]
    }
   ],
   "source": [
    "baseline3gelu = load_model('baseline3gelu.h5', custom_objects={'mse': mean_squared_error})\n",
    "baseline3relu = load_model('baseline3relu.h5', custom_objects={'mse': mean_squared_error})\n",
    "baseline3tanh = load_model('baseline3tanh.h5', custom_objects={'mse': mean_squared_error})\n",
    "baseline4gelu = load_model('baseline4gelu.h5', custom_objects={'mse': mean_squared_error})\n",
    "baseline4relu = load_model('baseline4relu.h5', custom_objects={'mse': mean_squared_error})\n",
    "baseline4tanh = load_model('baseline4tanh.h5', custom_objects={'mse': mean_squared_error})\n",
    "baseline5gelu = load_model('baseline5gelu.h5', custom_objects={'mse': mean_squared_error})\n",
    "baseline5relu = load_model('baseline5relu.h5', custom_objects={'mse': mean_squared_error})\n",
    "baseline5tanh = load_model('baseline5tanh.h5', custom_objects={'mse': mean_squared_error})"
   ]
  },
  {
   "cell_type": "code",
   "execution_count": 189,
   "metadata": {},
   "outputs": [],
   "source": [
    "def get_model_summary_info(model):\n",
    "    # Mendapatkan jumlah layer\n",
    "    num_layers = len(model.layers)\n",
    "    \n",
    "    # Menyiapkan string untuk menyimpan informasi\n",
    "    summary_info = f\"Number of Layers: {num_layers} \"\n",
    "    \n",
    "    # Iterasi melalui setiap layer\n",
    "    for i, layer in enumerate(model.layers, 1):\n",
    "        # Hanya proses layer Dense\n",
    "        if isinstance(layer, tf.keras.layers.Dense):\n",
    "            # Dapatkan jumlah neuron (units)\n",
    "            neurons = layer.units\n",
    "            \n",
    "            # Dapatkan aktivasi (default None jika tidak ada)\n",
    "            activation = layer.activation.__name__ if layer.activation else 'None'\n",
    "            \n",
    "            # Tambahkan informasi layer ke summary\n",
    "            summary_info += f\"Neurons in Layer {i}: {neurons} Activation Function for Layer {i}: {activation} \"\n",
    "    \n",
    "    # Tambahkan informasi optimizer (asumsi model sudah dikompilasi)\n",
    "    if hasattr(model, 'optimizer'):\n",
    "        optimizer_name = model.optimizer.__class__.__name__\n",
    "        summary_info += f\"Optimizer: {optimizer_name}\"\n",
    "    \n",
    "    return summary_info"
   ]
  },
  {
   "cell_type": "code",
   "execution_count": 211,
   "metadata": {},
   "outputs": [
    {
     "data": {
      "text/plain": [
       "'Number of Layers: 5 Neurons in Layer 1: 112 Activation Function for Layer 1: tanh Neurons in Layer 2: 49 Activation Function for Layer 2: tanh Neurons in Layer 3: 92 Activation Function for Layer 3: tanh Neurons in Layer 4: 114 Activation Function for Layer 4: relu Neurons in Layer 5: 1 Activation Function for Layer 5: linear Optimizer: Adam'"
      ]
     },
     "execution_count": 211,
     "metadata": {},
     "output_type": "execute_result"
    }
   ],
   "source": [
    "get_model_summary_info(best_model50)"
   ]
  },
  {
   "cell_type": "code",
   "execution_count": 206,
   "metadata": {},
   "outputs": [
    {
     "data": {
      "text/html": [
       "<pre style=\"white-space:pre;overflow-x:auto;line-height:normal;font-family:Menlo,'DejaVu Sans Mono',consolas,'Courier New',monospace\"><span style=\"font-weight: bold\">Model: \"sequential_630\"</span>\n",
       "</pre>\n"
      ],
      "text/plain": [
       "\u001b[1mModel: \"sequential_630\"\u001b[0m\n"
      ]
     },
     "metadata": {},
     "output_type": "display_data"
    },
    {
     "data": {
      "text/html": [
       "<pre style=\"white-space:pre;overflow-x:auto;line-height:normal;font-family:Menlo,'DejaVu Sans Mono',consolas,'Courier New',monospace\">┏━━━━━━━━━━━━━━━━━━━━━━━━━━━━━━━━━┳━━━━━━━━━━━━━━━━━━━━━━━━┳━━━━━━━━━━━━━━━┓\n",
       "┃<span style=\"font-weight: bold\"> Layer (type)                    </span>┃<span style=\"font-weight: bold\"> Output Shape           </span>┃<span style=\"font-weight: bold\">       Param # </span>┃\n",
       "┡━━━━━━━━━━━━━━━━━━━━━━━━━━━━━━━━━╇━━━━━━━━━━━━━━━━━━━━━━━━╇━━━━━━━━━━━━━━━┩\n",
       "│ dense_2714 (<span style=\"color: #0087ff; text-decoration-color: #0087ff\">Dense</span>)              │ (<span style=\"color: #00d7ff; text-decoration-color: #00d7ff\">None</span>, <span style=\"color: #00af00; text-decoration-color: #00af00\">72</span>)             │        <span style=\"color: #00af00; text-decoration-color: #00af00\">63,504</span> │\n",
       "├─────────────────────────────────┼────────────────────────┼───────────────┤\n",
       "│ dense_2715 (<span style=\"color: #0087ff; text-decoration-color: #0087ff\">Dense</span>)              │ (<span style=\"color: #00d7ff; text-decoration-color: #00d7ff\">None</span>, <span style=\"color: #00af00; text-decoration-color: #00af00\">24</span>)             │         <span style=\"color: #00af00; text-decoration-color: #00af00\">1,752</span> │\n",
       "├─────────────────────────────────┼────────────────────────┼───────────────┤\n",
       "│ dense_2716 (<span style=\"color: #0087ff; text-decoration-color: #0087ff\">Dense</span>)              │ (<span style=\"color: #00d7ff; text-decoration-color: #00d7ff\">None</span>, <span style=\"color: #00af00; text-decoration-color: #00af00\">86</span>)             │         <span style=\"color: #00af00; text-decoration-color: #00af00\">2,150</span> │\n",
       "├─────────────────────────────────┼────────────────────────┼───────────────┤\n",
       "│ dense_2717 (<span style=\"color: #0087ff; text-decoration-color: #0087ff\">Dense</span>)              │ (<span style=\"color: #00d7ff; text-decoration-color: #00d7ff\">None</span>, <span style=\"color: #00af00; text-decoration-color: #00af00\">1</span>)              │            <span style=\"color: #00af00; text-decoration-color: #00af00\">87</span> │\n",
       "└─────────────────────────────────┴────────────────────────┴───────────────┘\n",
       "</pre>\n"
      ],
      "text/plain": [
       "┏━━━━━━━━━━━━━━━━━━━━━━━━━━━━━━━━━┳━━━━━━━━━━━━━━━━━━━━━━━━┳━━━━━━━━━━━━━━━┓\n",
       "┃\u001b[1m \u001b[0m\u001b[1mLayer (type)                   \u001b[0m\u001b[1m \u001b[0m┃\u001b[1m \u001b[0m\u001b[1mOutput Shape          \u001b[0m\u001b[1m \u001b[0m┃\u001b[1m \u001b[0m\u001b[1m      Param #\u001b[0m\u001b[1m \u001b[0m┃\n",
       "┡━━━━━━━━━━━━━━━━━━━━━━━━━━━━━━━━━╇━━━━━━━━━━━━━━━━━━━━━━━━╇━━━━━━━━━━━━━━━┩\n",
       "│ dense_2714 (\u001b[38;5;33mDense\u001b[0m)              │ (\u001b[38;5;45mNone\u001b[0m, \u001b[38;5;34m72\u001b[0m)             │        \u001b[38;5;34m63,504\u001b[0m │\n",
       "├─────────────────────────────────┼────────────────────────┼───────────────┤\n",
       "│ dense_2715 (\u001b[38;5;33mDense\u001b[0m)              │ (\u001b[38;5;45mNone\u001b[0m, \u001b[38;5;34m24\u001b[0m)             │         \u001b[38;5;34m1,752\u001b[0m │\n",
       "├─────────────────────────────────┼────────────────────────┼───────────────┤\n",
       "│ dense_2716 (\u001b[38;5;33mDense\u001b[0m)              │ (\u001b[38;5;45mNone\u001b[0m, \u001b[38;5;34m86\u001b[0m)             │         \u001b[38;5;34m2,150\u001b[0m │\n",
       "├─────────────────────────────────┼────────────────────────┼───────────────┤\n",
       "│ dense_2717 (\u001b[38;5;33mDense\u001b[0m)              │ (\u001b[38;5;45mNone\u001b[0m, \u001b[38;5;34m1\u001b[0m)              │            \u001b[38;5;34m87\u001b[0m │\n",
       "└─────────────────────────────────┴────────────────────────┴───────────────┘\n"
      ]
     },
     "metadata": {},
     "output_type": "display_data"
    },
    {
     "data": {
      "text/html": [
       "<pre style=\"white-space:pre;overflow-x:auto;line-height:normal;font-family:Menlo,'DejaVu Sans Mono',consolas,'Courier New',monospace\"><span style=\"font-weight: bold\"> Total params: </span><span style=\"color: #00af00; text-decoration-color: #00af00\">67,495</span> (263.66 KB)\n",
       "</pre>\n"
      ],
      "text/plain": [
       "\u001b[1m Total params: \u001b[0m\u001b[38;5;34m67,495\u001b[0m (263.66 KB)\n"
      ]
     },
     "metadata": {},
     "output_type": "display_data"
    },
    {
     "data": {
      "text/html": [
       "<pre style=\"white-space:pre;overflow-x:auto;line-height:normal;font-family:Menlo,'DejaVu Sans Mono',consolas,'Courier New',monospace\"><span style=\"font-weight: bold\"> Trainable params: </span><span style=\"color: #00af00; text-decoration-color: #00af00\">67,493</span> (263.64 KB)\n",
       "</pre>\n"
      ],
      "text/plain": [
       "\u001b[1m Trainable params: \u001b[0m\u001b[38;5;34m67,493\u001b[0m (263.64 KB)\n"
      ]
     },
     "metadata": {},
     "output_type": "display_data"
    },
    {
     "data": {
      "text/html": [
       "<pre style=\"white-space:pre;overflow-x:auto;line-height:normal;font-family:Menlo,'DejaVu Sans Mono',consolas,'Courier New',monospace\"><span style=\"font-weight: bold\"> Non-trainable params: </span><span style=\"color: #00af00; text-decoration-color: #00af00\">0</span> (0.00 B)\n",
       "</pre>\n"
      ],
      "text/plain": [
       "\u001b[1m Non-trainable params: \u001b[0m\u001b[38;5;34m0\u001b[0m (0.00 B)\n"
      ]
     },
     "metadata": {},
     "output_type": "display_data"
    },
    {
     "data": {
      "text/html": [
       "<pre style=\"white-space:pre;overflow-x:auto;line-height:normal;font-family:Menlo,'DejaVu Sans Mono',consolas,'Courier New',monospace\"><span style=\"font-weight: bold\"> Optimizer params: </span><span style=\"color: #00af00; text-decoration-color: #00af00\">2</span> (12.00 B)\n",
       "</pre>\n"
      ],
      "text/plain": [
       "\u001b[1m Optimizer params: \u001b[0m\u001b[38;5;34m2\u001b[0m (12.00 B)\n"
      ]
     },
     "metadata": {},
     "output_type": "display_data"
    },
    {
     "name": "stdout",
     "output_type": "stream",
     "text": [
      "Optimizer: <keras.src.optimizers.adam.Adam object at 0x0000026800B0EC60>\n"
     ]
    }
   ],
   "source": [
    "best_model20.summary()\n",
    "\n",
    "print(\"Optimizer:\", best_model10.optimizer)"
   ]
  },
  {
   "cell_type": "code",
   "execution_count": 202,
   "metadata": {},
   "outputs": [
    {
     "name": "stdout",
     "output_type": "stream",
     "text": [
      "\u001b[1m2/2\u001b[0m \u001b[32m━━━━━━━━━━━━━━━━━━━━\u001b[0m\u001b[37m\u001b[0m \u001b[1m0s\u001b[0m 5ms/step \n",
      "\u001b[1m2/2\u001b[0m \u001b[32m━━━━━━━━━━━━━━━━━━━━\u001b[0m\u001b[37m\u001b[0m \u001b[1m0s\u001b[0m 6ms/step \n",
      "\u001b[1m2/2\u001b[0m \u001b[32m━━━━━━━━━━━━━━━━━━━━\u001b[0m\u001b[37m\u001b[0m \u001b[1m0s\u001b[0m 5ms/step \n",
      "\u001b[1m2/2\u001b[0m \u001b[32m━━━━━━━━━━━━━━━━━━━━\u001b[0m\u001b[37m\u001b[0m \u001b[1m0s\u001b[0m 12ms/step\n",
      "\u001b[1m2/2\u001b[0m \u001b[32m━━━━━━━━━━━━━━━━━━━━\u001b[0m\u001b[37m\u001b[0m \u001b[1m0s\u001b[0m 13ms/step\n",
      "\u001b[1m7/7\u001b[0m \u001b[32m━━━━━━━━━━━━━━━━━━━━\u001b[0m\u001b[37m\u001b[0m \u001b[1m0s\u001b[0m 2ms/step \n",
      "\u001b[1m7/7\u001b[0m \u001b[32m━━━━━━━━━━━━━━━━━━━━\u001b[0m\u001b[37m\u001b[0m \u001b[1m0s\u001b[0m 2ms/step \n",
      "\u001b[1m7/7\u001b[0m \u001b[32m━━━━━━━━━━━━━━━━━━━━\u001b[0m\u001b[37m\u001b[0m \u001b[1m0s\u001b[0m 5ms/step \n",
      "\u001b[1m7/7\u001b[0m \u001b[32m━━━━━━━━━━━━━━━━━━━━\u001b[0m\u001b[37m\u001b[0m \u001b[1m0s\u001b[0m 2ms/step \n",
      "\u001b[1m7/7\u001b[0m \u001b[32m━━━━━━━━━━━━━━━━━━━━\u001b[0m\u001b[37m\u001b[0m \u001b[1m0s\u001b[0m 2ms/step \n"
     ]
    }
   ],
   "source": [
    "prediction10 = best_model10.predict(X_test)\n",
    "prediction20 = best_model20.predict(X_test)\n",
    "prediction30 = best_model30.predict(X_test)\n",
    "prediction40 = best_model40.predict(X_test)\n",
    "prediction50 = best_model50.predict(X_test)\n",
    "\n",
    "prediction10t = best_model10.predict(X_train)\n",
    "prediction20t = best_model20.predict(X_train)\n",
    "prediction30t = best_model30.predict(X_train)\n",
    "prediction40t = best_model40.predict(X_train)\n",
    "prediction50t = best_model50.predict(X_train)"
   ]
  },
  {
   "cell_type": "code",
   "execution_count": 169,
   "metadata": {},
   "outputs": [
    {
     "name": "stdout",
     "output_type": "stream",
     "text": [
      "\u001b[1m2/2\u001b[0m \u001b[32m━━━━━━━━━━━━━━━━━━━━\u001b[0m\u001b[37m\u001b[0m \u001b[1m0s\u001b[0m 106ms/step\n",
      "\u001b[1m2/2\u001b[0m \u001b[32m━━━━━━━━━━━━━━━━━━━━\u001b[0m\u001b[37m\u001b[0m \u001b[1m0s\u001b[0m 100ms/step\n",
      "\u001b[1m2/2\u001b[0m \u001b[32m━━━━━━━━━━━━━━━━━━━━\u001b[0m\u001b[37m\u001b[0m \u001b[1m0s\u001b[0m 74ms/step\n",
      "\u001b[1m2/2\u001b[0m \u001b[32m━━━━━━━━━━━━━━━━━━━━\u001b[0m\u001b[37m\u001b[0m \u001b[1m0s\u001b[0m 150ms/step\n",
      "\u001b[1m2/2\u001b[0m \u001b[32m━━━━━━━━━━━━━━━━━━━━\u001b[0m\u001b[37m\u001b[0m \u001b[1m0s\u001b[0m 59ms/step\n",
      "\u001b[1m2/2\u001b[0m \u001b[32m━━━━━━━━━━━━━━━━━━━━\u001b[0m\u001b[37m\u001b[0m \u001b[1m0s\u001b[0m 90ms/step\n",
      "\u001b[1m2/2\u001b[0m \u001b[32m━━━━━━━━━━━━━━━━━━━━\u001b[0m\u001b[37m\u001b[0m \u001b[1m0s\u001b[0m 114ms/step\n",
      "\u001b[1m2/2\u001b[0m \u001b[32m━━━━━━━━━━━━━━━━━━━━\u001b[0m\u001b[37m\u001b[0m \u001b[1m0s\u001b[0m 71ms/step\n",
      "\u001b[1m2/2\u001b[0m \u001b[32m━━━━━━━━━━━━━━━━━━━━\u001b[0m\u001b[37m\u001b[0m \u001b[1m0s\u001b[0m 69ms/step\n",
      "\u001b[1m7/7\u001b[0m \u001b[32m━━━━━━━━━━━━━━━━━━━━\u001b[0m\u001b[37m\u001b[0m \u001b[1m0s\u001b[0m 2ms/step \n",
      "\u001b[1m7/7\u001b[0m \u001b[32m━━━━━━━━━━━━━━━━━━━━\u001b[0m\u001b[37m\u001b[0m \u001b[1m0s\u001b[0m 3ms/step \n",
      "\u001b[1m7/7\u001b[0m \u001b[32m━━━━━━━━━━━━━━━━━━━━\u001b[0m\u001b[37m\u001b[0m \u001b[1m0s\u001b[0m 3ms/step \n",
      "\u001b[1m7/7\u001b[0m \u001b[32m━━━━━━━━━━━━━━━━━━━━\u001b[0m\u001b[37m\u001b[0m \u001b[1m0s\u001b[0m 3ms/step \n",
      "\u001b[1m7/7\u001b[0m \u001b[32m━━━━━━━━━━━━━━━━━━━━\u001b[0m\u001b[37m\u001b[0m \u001b[1m0s\u001b[0m 1ms/step \n",
      "\u001b[1m7/7\u001b[0m \u001b[32m━━━━━━━━━━━━━━━━━━━━\u001b[0m\u001b[37m\u001b[0m \u001b[1m0s\u001b[0m 2ms/step \n",
      "\u001b[1m7/7\u001b[0m \u001b[32m━━━━━━━━━━━━━━━━━━━━\u001b[0m\u001b[37m\u001b[0m \u001b[1m0s\u001b[0m 5ms/step \n",
      "\u001b[1m7/7\u001b[0m \u001b[32m━━━━━━━━━━━━━━━━━━━━\u001b[0m\u001b[37m\u001b[0m \u001b[1m0s\u001b[0m 3ms/step \n",
      "\u001b[1m7/7\u001b[0m \u001b[32m━━━━━━━━━━━━━━━━━━━━\u001b[0m\u001b[37m\u001b[0m \u001b[1m0s\u001b[0m 911us/step\n"
     ]
    }
   ],
   "source": [
    "prediction3gelu = baseline3gelu.predict(X_test)\n",
    "prediction3relu = baseline3relu.predict(X_test)\n",
    "prediction3tanh = baseline3tanh.predict(X_test)\n",
    "prediction4gelu = baseline4gelu.predict(X_test)\n",
    "prediction4relu = baseline4relu.predict(X_test)\n",
    "prediction4tanh = baseline4tanh.predict(X_test)\n",
    "prediction5gelu = baseline5gelu.predict(X_test)\n",
    "prediction5relu = baseline5relu.predict(X_test)\n",
    "prediction5tanh = baseline5tanh.predict(X_test)\n",
    "\n",
    "prediction3gelut = baseline3gelu.predict(X_train)\n",
    "prediction3relut = baseline3relu.predict(X_train)\n",
    "prediction3tanht = baseline3tanh.predict(X_train)\n",
    "prediction4gelut = baseline4gelu.predict(X_train)\n",
    "prediction4relut = baseline4relu.predict(X_train)\n",
    "prediction4tanht = baseline4tanh.predict(X_train)\n",
    "prediction5gelut = baseline5gelu.predict(X_train)\n",
    "prediction5relut = baseline5relu.predict(X_train)\n",
    "prediction5tanht = baseline5tanh.predict(X_train)"
   ]
  },
  {
   "cell_type": "code",
   "execution_count": 170,
   "metadata": {},
   "outputs": [],
   "source": [
    "mse10 = mean_squared_error(y_test, prediction10)\n",
    "r2_10 = r2_score(y_test, prediction10)\n",
    "mse_20 = mean_squared_error(y_test, prediction20)\n",
    "r2_20 = r2_score(y_test, prediction20)\n",
    "mse_30 = mean_squared_error(y_test, prediction30)\n",
    "r2_30 = r2_score(y_test, prediction30)\n",
    "mse_40 = mean_squared_error(y_test, prediction40)\n",
    "r2_40 = r2_score(y_test, prediction40)\n",
    "mse_50 = mean_squared_error(y_test, prediction50)\n",
    "r2_50 = r2_score(y_test, prediction50)\n",
    "\n",
    "mse10t = mean_squared_error(y_train, prediction10t)\n",
    "r2_10t = r2_score(y_train, prediction10t)\n",
    "mse_20t = mean_squared_error(y_train, prediction20t)\n",
    "r2_20t = r2_score(y_train, prediction20t)\n",
    "mse_30t = mean_squared_error(y_train, prediction30t)\n",
    "r2_30t = r2_score(y_train, prediction30t)\n",
    "mse_40t = mean_squared_error(y_train, prediction40t)\n",
    "r2_40t = r2_score(y_train, prediction40t)\n",
    "mse_50t = mean_squared_error(y_train, prediction50t)\n",
    "r2_50t = r2_score(y_train, prediction50t)"
   ]
  },
  {
   "cell_type": "code",
   "execution_count": 171,
   "metadata": {},
   "outputs": [],
   "source": [
    "mse3gelu = mean_squared_error(y_test, prediction3gelu)\n",
    "r2_3gelu = r2_score(y_test, prediction3gelu)\n",
    "mse3relu = mean_squared_error(y_test, prediction3relu)\n",
    "r2_3relu = r2_score(y_test, prediction3relu)\n",
    "mse3tanh = mean_squared_error(y_test, prediction3tanh)\n",
    "r2_3tanh = r2_score(y_test, prediction3tanh)\n",
    "mse4gelu = mean_squared_error(y_test, prediction4gelu)\n",
    "r2_4gelu = r2_score(y_test, prediction4gelu)\n",
    "mse4relu = mean_squared_error(y_test, prediction4relu)\n",
    "r2_4relu = r2_score(y_test, prediction4relu)\n",
    "mse4tanh = mean_squared_error(y_test, prediction4tanh)\n",
    "r2_4tanh = r2_score(y_test, prediction4tanh)\n",
    "mse5gelu = mean_squared_error(y_test, prediction5gelu)\n",
    "r2_5gelu = r2_score(y_test, prediction5gelu)\n",
    "mse5relu = mean_squared_error(y_test, prediction5relu)\n",
    "r2_5relu = r2_score(y_test, prediction5relu)\n",
    "mse5tanh = mean_squared_error(y_test, prediction5tanh)\n",
    "r2_5tanh = r2_score(y_test, prediction5tanh)\n",
    "\n",
    "mse3gelut = mean_squared_error(y_train, prediction3gelut)\n",
    "r2_3gelut = r2_score(y_train, prediction3gelut)\n",
    "mse3relut = mean_squared_error(y_train, prediction3relut)\n",
    "r2_3relut = r2_score(y_train, prediction3relut)\n",
    "mse3tanht = mean_squared_error(y_train, prediction3tanht)\n",
    "r2_3tanht = r2_score(y_train, prediction3tanht)\n",
    "mse4gelut = mean_squared_error(y_train, prediction4gelut)\n",
    "r2_4gelut = r2_score(y_train, prediction4gelut)\n",
    "mse4relut = mean_squared_error(y_train, prediction4relut)\n",
    "r2_4relut = r2_score(y_train, prediction4relut)\n",
    "mse4tanht = mean_squared_error(y_train, prediction4tanht)\n",
    "r2_4tanht = r2_score(y_train, prediction4tanht)\n",
    "mse5gelut = mean_squared_error(y_train, prediction5gelut)\n",
    "r2_5gelut = r2_score(y_train, prediction5gelut)\n",
    "mse5relut = mean_squared_error(y_train, prediction5relut)\n",
    "r2_5relut = r2_score(y_train, prediction5relut)\n",
    "mse5tanht = mean_squared_error(y_train, prediction5tanht)\n",
    "r2_5tanht = r2_score(y_train, prediction5tanht)"
   ]
  },
  {
   "cell_type": "code",
   "execution_count": 172,
   "metadata": {},
   "outputs": [
    {
     "name": "stdout",
     "output_type": "stream",
     "text": [
      "MSE 10 :  0.813182024767341\n",
      "R2 10 :  0.68418288230896\n",
      "MSE 20 :  1.2131829637408353\n",
      "R2 20 :  0.5288336873054504\n",
      "MSE 30 :  0.8968056517208965\n",
      "R2 30 :  0.6517057418823242\n",
      "MSE 40 :  0.8540227668729229\n",
      "R2 40 :  0.6683213710784912\n",
      "MSE 50 :  0.814493353646795\n",
      "R2 50 :  0.6836735606193542\n",
      "training\n",
      "MSE 10 :  0.594794812264149\n",
      "R2 10 :  0.7627756595611572\n",
      "MSE 20 :  0.7461728609271473\n",
      "R2 20 :  0.7024009227752686\n",
      "MSE 30 :  0.6528354786081257\n",
      "R2 30 :  0.7396270632743835\n",
      "MSE 40 :  0.8496372909302962\n",
      "R2 40 :  0.6611357927322388\n",
      "MSE 50 :  0.5746537549468481\n",
      "R2 50 :  0.7708085775375366\n"
     ]
    }
   ],
   "source": [
    "print(\"MSE 10 : \", mse10)\n",
    "print(\"R2 10 : \", r2_10)\n",
    "print(\"MSE 20 : \", mse_20)\n",
    "print(\"R2 20 : \", r2_20)\n",
    "print(\"MSE 30 : \", mse_30)\n",
    "print(\"R2 30 : \", r2_30)\n",
    "print(\"MSE 40 : \", mse_40)\n",
    "print(\"R2 40 : \", r2_40)\n",
    "print(\"MSE 50 : \", mse_50)\n",
    "print(\"R2 50 : \", r2_50)\n",
    "\n",
    "print(\"training\")\n",
    "\n",
    "print(\"MSE 10 : \", mse10t)\n",
    "print(\"R2 10 : \", r2_10t)\n",
    "print(\"MSE 20 : \", mse_20t)\n",
    "print(\"R2 20 : \", r2_20t)\n",
    "print(\"MSE 30 : \", mse_30t)\n",
    "print(\"R2 30 : \", r2_30t)\n",
    "print(\"MSE 40 : \", mse_40t)\n",
    "print(\"R2 40 : \", r2_40t)\n",
    "print(\"MSE 50 : \", mse_50t)\n",
    "print(\"R2 50 : \", r2_50t)"
   ]
  },
  {
   "cell_type": "code",
   "execution_count": 173,
   "metadata": {},
   "outputs": [
    {
     "name": "stdout",
     "output_type": "stream",
     "text": [
      "MSE 3 gelu :  31.948197720570942\n",
      "R2 3 gelu :  -11.407788276672363\n",
      "MSE 3 relu :  25.485281719279243\n",
      "R2 3 relu :  -8.897769927978516\n",
      "MSE 3 tanh :  6.940788444785391\n",
      "R2 3 tanh :  -1.695608139038086\n",
      "MSE 4 gelu :  1.3098489615439914\n",
      "R2 4 gelu :  0.4912912845611572\n",
      "MSE 4 relu :  34.184341099132446\n",
      "R2 4 relu :  -12.27624225616455\n",
      "MSE 4 tanh :  13.910925683097878\n",
      "R2 4 tanh :  -4.402615070343018\n",
      "MSE 5 gelu :  5.009317737659618\n",
      "R2 5 gelu :  -0.9454789161682129\n",
      "MSE 5 relu :  4.9269835360129175\n",
      "R2 5 relu :  -0.9135028123855591\n",
      "MSE 5 tanh :  24.850534068202826\n",
      "R2 5 tanh :  -8.651253700256348\n",
      "training\n",
      "MSE 3 gelu :  33.894900034415315\n",
      "R2 3 gelu :  -12.518436431884766\n",
      "MSE 3 relu :  26.38297128818011\n",
      "R2 3 relu :  -9.52242374420166\n",
      "MSE 3 tanh :  7.06657122741614\n",
      "R2 3 tanh :  -1.8183884620666504\n",
      "MSE 4 gelu :  1.074138842013268\n",
      "R2 4 gelu :  0.5715969800949097\n",
      "MSE 4 relu :  36.45877442304715\n",
      "R2 4 relu :  -13.540995597839355\n",
      "MSE 4 tanh :  15.248372216100025\n",
      "R2 4 tanh :  -5.081568241119385\n",
      "MSE 5 gelu :  2.898285822009641\n",
      "R2 5 gelu :  -0.15593457221984863\n",
      "MSE 5 relu :  2.798532593975202\n",
      "R2 5 relu :  -0.11614978313446045\n",
      "MSE 5 tanh :  27.150829308324596\n",
      "R2 5 tanh :  -9.8286714553833\n"
     ]
    }
   ],
   "source": [
    "print(\"MSE 3 gelu : \", mse3gelu)\n",
    "print(\"R2 3 gelu : \", r2_3gelu)\n",
    "print(\"MSE 3 relu : \", mse3relu)\n",
    "print(\"R2 3 relu : \", r2_3relu)\n",
    "print(\"MSE 3 tanh : \", mse3tanh)\n",
    "print(\"R2 3 tanh : \", r2_3tanh)\n",
    "print(\"MSE 4 gelu : \", mse4gelu)\n",
    "print(\"R2 4 gelu : \", r2_4gelu)\n",
    "print(\"MSE 4 relu : \", mse4relu)\n",
    "print(\"R2 4 relu : \", r2_4relu)\n",
    "print(\"MSE 4 tanh : \", mse4tanh)\n",
    "print(\"R2 4 tanh : \", r2_4tanh)\n",
    "print(\"MSE 5 gelu : \", mse5gelu)\n",
    "print(\"R2 5 gelu : \", r2_5gelu)\n",
    "print(\"MSE 5 relu : \", mse5relu)\n",
    "print(\"R2 5 relu : \", r2_5relu)\n",
    "print(\"MSE 5 tanh : \", mse5tanh)\n",
    "print(\"R2 5 tanh : \", r2_5tanh)\n",
    "\n",
    "print(\"training\")\n",
    "\n",
    "print(\"MSE 3 gelu : \", mse3gelut)\n",
    "print(\"R2 3 gelu : \", r2_3gelut)\n",
    "print(\"MSE 3 relu : \", mse3relut)\n",
    "print(\"R2 3 relu : \", r2_3relut)\n",
    "print(\"MSE 3 tanh : \", mse3tanht)\n",
    "print(\"R2 3 tanh : \", r2_3tanht)\n",
    "print(\"MSE 4 gelu : \", mse4gelut)\n",
    "print(\"R2 4 gelu : \", r2_4gelut)\n",
    "print(\"MSE 4 relu : \", mse4relut)\n",
    "print(\"R2 4 relu : \", r2_4relut)\n",
    "print(\"MSE 4 tanh : \", mse4tanht)\n",
    "print(\"R2 4 tanh : \", r2_4tanht)\n",
    "print(\"MSE 5 gelu : \", mse5gelut)\n",
    "print(\"R2 5 gelu : \", r2_5gelut)\n",
    "print(\"MSE 5 relu : \", mse5relut)\n",
    "print(\"R2 5 relu : \", r2_5relut)\n",
    "print(\"MSE 5 tanh : \", mse5tanht)\n",
    "print(\"R2 5 tanh : \", r2_5tanht)"
   ]
  },
  {
   "cell_type": "code",
   "execution_count": 174,
   "metadata": {},
   "outputs": [],
   "source": [
    "def normalize(X):\n",
    "    max_ = np.max(X, axis=0)\n",
    "    min_ = np.min(X, axis=0)\n",
    "    X_norm = (X - min_) / (max_ - min_)\n",
    "    return max_, min_, X_norm"
   ]
  },
  {
   "cell_type": "code",
   "execution_count": 175,
   "metadata": {},
   "outputs": [],
   "source": [
    "def qsar_param(y, y_pred, d_r2m=True):\n",
    "    results = []\n",
    "    _, _, y = normalize(y)\n",
    "    _, _, y_pred = normalize(y_pred)\n",
    "    y_mean = np.mean(y); y_pred_mean = np.mean(y_pred)\n",
    "    # calculate r2\n",
    "    num = 0; den_1 = 0; den_2 = 0\n",
    "    for i in range(len(y)):\n",
    "        num += (y[i] - y_mean) * (y_pred[i] - y_pred_mean)\n",
    "        den_1 += (y_pred[i] - y_pred_mean) ** 2\n",
    "        den_2 += (y[i] - y_mean) ** 2\n",
    "    r2 = num ** 2 / (den_1 * den_2)\n",
    "    results = {\"r2\": r2}\n",
    "    # calculate k and k_dash\n",
    "    n_data = len(y)\n",
    "    dot_ = 0; y_pred2 = 0; y2 = 0\n",
    "    for i in range(n_data):\n",
    "        dot_ += (y[i] * y_pred[i])\n",
    "        y_pred2 += y_pred[i] ** 2\n",
    "        y2 += y[i] ** 2\n",
    "    k = np.sum(dot_) / np.sum(y_pred2)\n",
    "    k_dash = np.sum(dot_) / np.sum(y2)\n",
    "    results[\"k\"] = k\n",
    "    results[\"k_dash\"] = k_dash\n",
    "    # calculate r2_0 and r2_0_dash\n",
    "    num = 0; num_dash = 0; den = 0; den_dash = 0\n",
    "    for i in range(n_data):\n",
    "        num += (y[i] - (k * y_pred[i])) ** 2\n",
    "        num_dash += (y_pred[i] - (k_dash * y[i])) ** 2\n",
    "        den += (y[i] - y_mean) ** 2\n",
    "        den_dash += (y_pred[i] - y_pred_mean) ** 2\n",
    "    r2_0 = 1 - (num / den)\n",
    "    r2_0_dash = 1 - (num_dash / den_dash)\n",
    "    #results.append(r2_0)\n",
    "    #results.append(r2_0_dash)\n",
    "    r2r0 = (r2 - r2_0)/r2\n",
    "    r2r0_dash = (r2 - r2_0_dash)/r2\n",
    "    results[\"r2r0\"] = r2r0\n",
    "    results[\"r2r0_dash\"] = r2r0_dash\n",
    "    r0r0_dash = np.abs(r2_0 - r2_0_dash)\n",
    "    results[\"r0r0_dash\"] = r0r0_dash\n",
    "    # calculate rm2 and rm2_dash\n",
    "    rm2 = r2 * (1 - np.sqrt(r2 - r2_0))\n",
    "    rm2_dash = r2 * (1 - np.sqrt(r2 - r2_0_dash))\n",
    "    results[\"rm2\"] = rm2\n",
    "    results[\"rm2_dash\"] = rm2_dash\n",
    "    #results.append(rm2)\n",
    "    #results.append(rm2_dash)\n",
    "    # calculate rm2_bar and d_rm2\n",
    "    rm2_bar = (rm2 + rm2_dash) / 2\n",
    "    d_rm2 = np.abs(rm2 - rm2_dash)\n",
    "    results[\"rm2_bar\"] = rm2_bar\n",
    "    results[\"d_rm2\"] = d_rm2\n",
    "    return results"
   ]
  },
  {
   "cell_type": "code",
   "execution_count": 176,
   "metadata": {},
   "outputs": [],
   "source": [
    "yval = y_test.values\n",
    "ytval = y_train.values"
   ]
  },
  {
   "cell_type": "code",
   "execution_count": 177,
   "metadata": {},
   "outputs": [],
   "source": [
    "qsarbest10 = qsar_param(yval, prediction10)\n",
    "qsarbest20 = qsar_param(yval, prediction20)\n",
    "qsarbest30 = qsar_param(yval, prediction30)\n",
    "qsarbest40 = qsar_param(yval, prediction40)\n",
    "qsarbest50 = qsar_param(yval, prediction50)\n",
    "\n",
    "qsarbest10t = qsar_param(ytval, prediction10t)\n",
    "qsarbest20t = qsar_param(ytval, prediction20t)\n",
    "qsarbest30t = qsar_param(ytval, prediction30t)\n",
    "qsarbest40t = qsar_param(ytval, prediction40t)\n",
    "qsarbest50t = qsar_param(ytval, prediction50t)"
   ]
  },
  {
   "cell_type": "code",
   "execution_count": 178,
   "metadata": {},
   "outputs": [],
   "source": [
    "qsar3gelu = qsar_param(yval, prediction3gelu)\n",
    "qsar3relu = qsar_param(yval, prediction3relu)\n",
    "qsar3tanh = qsar_param(yval, prediction3tanh)\n",
    "qsar4gelu = qsar_param(yval, prediction4gelu)\n",
    "qsar4relu = qsar_param(yval, prediction4relu)\n",
    "qsar4tanh = qsar_param(yval, prediction4tanh)\n",
    "qsar5gelu = qsar_param(yval, prediction5gelu)    \n",
    "qsar5relu = qsar_param(yval, prediction5relu)\n",
    "qsar5tanh = qsar_param(yval, prediction5tanh)\n",
    "\n",
    "qsar3gelut = qsar_param(ytval, prediction3gelut)\n",
    "qsar3relut = qsar_param(ytval, prediction3relut)\n",
    "qsar3tanht = qsar_param(ytval, prediction3tanht)\n",
    "qsar4gelut = qsar_param(ytval, prediction4gelut)\n",
    "qsar4relut = qsar_param(ytval, prediction4relut)\n",
    "qsar4tanht = qsar_param(ytval, prediction4tanht)\n",
    "qsar5gelut = qsar_param(ytval, prediction5gelut)    \n",
    "qsar5relut = qsar_param(ytval, prediction5relut)\n",
    "qsar5tanht = qsar_param(ytval, prediction5tanht)"
   ]
  },
  {
   "cell_type": "code",
   "execution_count": 179,
   "metadata": {},
   "outputs": [
    {
     "name": "stdout",
     "output_type": "stream",
     "text": [
      "{'r2': array([0.68537848]), 'k': 0.9209365120403779, 'k_dash': 1.0153655586036214, 'r2r0': array([3.00219843e-06]), 'r2r0_dash': array([0.16928403]), 'r0r0_dash': array([0.11602157]), 'rm2': array([0.68439534]), 'rm2_dash': array([0.45192321]), 'rm2_bar': array([0.56815927]), 'd_rm2': array([0.23247213])}\n",
      "{'r2': array([0.53967717]), 'k': 0.8247885478813517, 'k_dash': 1.0933459888310506, 'r2r0': array([0.02916359]), 'r2r0_dash': array([0.24995836]), 'r0r0_dash': array([0.11915789]), 'rm2': array([0.47197204]), 'rm2_dash': array([0.34146291]), 'rm2_bar': array([0.40671747]), 'd_rm2': array([0.13050913])}\n",
      "{'r2': array([0.67393659]), 'k': 0.8507349322843475, 'k_dash': 1.0960092924016502, 'r2r0': array([0.00225565]), 'r2r0_dash': array([0.25222707]), 'r0r0_dash': array([0.16846489]), 'rm2': array([0.64766028]), 'rm2_dash': array([0.39607763]), 'rm2_bar': array([0.52186896]), 'd_rm2': array([0.25158265])}\n",
      "{'r2': array([0.67144355]), 'k': 0.7535319300832842, 'k_dash': 1.2367897543523523, 'r2r0': array([0.00181719]), 'r2r0_dash': array([0.24975481]), 'r0r0_dash': array([0.16647611]), 'rm2': array([0.64798969]), 'rm2_dash': array([0.3964825]), 'rm2_bar': array([0.52223609]), 'd_rm2': array([0.25150719])}\n",
      "{'r2': array([0.69047913]), 'k': 0.8798114322089308, 'k_dash': 1.0635396338923222, 'r2r0': array([0.00298777]), 'r2r0_dash': array([0.23042884]), 'r0r0_dash': array([0.15704331]), 'rm2': array([0.65911742]), 'rm2_dash': array([0.41505991]), 'rm2_bar': array([0.53708867]), 'd_rm2': array([0.24405751])}\n",
      "training\n",
      "{'r2': array([0.76370129]), 'k': 0.8699973254292951, 'k_dash': 1.1021526264652461, 'r2r0': array([6.38756516e-05]), 'r2r0_dash': array([0.0734657]), 'r0r0_dash': array([0.05605707]), 'rm2': array([0.75836729]), 'rm2_dash': array([0.58280586]), 'rm2_bar': array([0.67058657]), 'd_rm2': array([0.17556143])}\n",
      "{'r2': array([0.72152382]), 'k': 0.8324013546929286, 'k_dash': 1.1421970594187598, 'r2r0': array([0.00615159]), 'r2r0_dash': array([0.06346062]), 'r0r0_dash': array([0.04134983]), 'rm2': array([0.67345431]), 'rm2_dash': array([0.56713062]), 'rm2_bar': array([0.62029246]), 'd_rm2': array([0.10632369])}\n",
      "{'r2': array([0.76043323]), 'k': 0.8657902505669685, 'k_dash': 1.106815243431742, 'r2r0': array([0.00030076]), 'r2r0_dash': array([0.09548381]), 'r0r0_dash': array([0.07238035]), 'rm2': array([0.74893317]), 'rm2_dash': array([0.55552638]), 'rm2_bar': array([0.65222977]), 'd_rm2': array([0.19340679])}\n",
      "{'r2': array([0.67763897]), 'k': 0.7299735178717214, 'k_dash': 1.2930620117671845, 'r2r0': array([2.42066974e-06]), 'r2r0_dash': array([0.18521946]), 'r0r0_dash': array([0.12551028]), 'rm2': array([0.67677107]), 'rm2_dash': array([0.43756733]), 'rm2_bar': array([0.5571692]), 'd_rm2': array([0.23920375])}\n",
      "{'r2': array([0.77497741]), 'k': 0.8498934301885721, 'k_dash': 1.130462061344687, 'r2r0': array([0.00051038]), 'r2r0_dash': array([0.05564853]), 'r0r0_dash': array([0.04273082]), 'rm2': array([0.75956458]), 'rm2_dash': array([0.61403874]), 'rm2_bar': array([0.68680166]), 'd_rm2': array([0.14552585])}\n"
     ]
    }
   ],
   "source": [
    "print(qsarbest10)\n",
    "print(qsarbest20)\n",
    "print(qsarbest30)\n",
    "print(qsarbest40)\n",
    "print(qsarbest50)\n",
    "print(\"training\")\n",
    "print(qsarbest10t)\n",
    "print(qsarbest20t)\n",
    "print(qsarbest30t)\n",
    "print(qsarbest40t)\n",
    "print(qsarbest50t)"
   ]
  },
  {
   "cell_type": "code",
   "execution_count": 183,
   "metadata": {},
   "outputs": [
    {
     "name": "stdout",
     "output_type": "stream",
     "text": [
      "{'r2': array([5.77005353e-07]), 'k': 0.8048308265011958, 'k_dash': 0.8215694606607482, 'r2r0': array([1112636.54741482]), 'r2r0_dash': array([1791087.72907176]), 'r0r0_dash': array([0.39146996]), 'rm2': array([1.14681369e-07]), 'rm2_dash': array([-9.57591863e-09]), 'rm2_bar': array([5.25527251e-08]), 'd_rm2': array([1.24257287e-07])}\n",
      "{'r2': array([0.00861357]), 'k': 0.8929238123242643, 'k_dash': 0.7839213889127794, 'r2r0': array([53.72414025]), 'r2r0_dash': array([113.43507313]), 'r0r0_dash': array([0.51432424]), 'rm2': array([0.00275408]), 'rm2_dash': array([9.92800785e-05]), 'rm2_bar': array([0.00142668]), 'd_rm2': array([0.0026548])}\n",
      "{'r2': array([0.0091688]), 'k': 0.6669308880330913, 'k_dash': 1.1180817932073086, 'r2r0': array([26.37260663]), 'r2r0_dash': array([205.69050858]), 'r0r0_dash': array([1.64413084]), 'rm2': array([0.00466016]), 'rm2_dash': array([-0.00342266]), 'rm2_bar': array([0.00061875]), 'd_rm2': array([0.00808282])}\n",
      "{'r2': array([0.64396458]), 'k': 0.9743701322473197, 'k_dash': 0.9500971399048193, 'r2r0': array([0.00599888]), 'r2r0_dash': array([0.38109005]), 'r0r0_dash': array([0.24154543]), 'rm2': array([0.6039399]), 'rm2_dash': array([0.32495276]), 'rm2_bar': array([0.46444633]), 'd_rm2': array([0.27898714])}\n",
      "{'r2': array([0.00401792]), 'k': 0.8271477515008213, 'k_dash': 0.7676457450020246, 'r2r0': array([192.47079363]), 'r2r0_dash': array([269.57469029]), 'r0r0_dash': array([0.30979694]), 'rm2': array([0.00048459]), 'rm2_dash': array([-0.00016367]), 'rm2_bar': array([0.00016046]), 'd_rm2': array([0.00064826])}\n",
      "{'r2': array([0.00690125]), 'k': 0.6559426352789216, 'k_dash': 1.1615738426752302, 'r2r0': array([23.3019221]), 'r2r0_dash': array([428.38864427]), 'r0r0_dash': array([2.79560518]), 'rm2': array([0.00413375]), 'rm2_dash': array([-0.00496492]), 'rm2_bar': array([-0.00041559]), 'd_rm2': array([0.00909867])}\n",
      "{'r2': array([0.00100371]), 'k': 0.774240313106688, 'k_dash': 0.8901357431153994, 'r2r0': array([505.63512068]), 'r2r0_dash': array([1170.02136632]), 'r0r0_dash': array([0.66684849]), 'rm2': array([0.00028867]), 'rm2_dash': array([-8.39878828e-05]), 'rm2_bar': array([0.00010234]), 'd_rm2': array([0.00037266])}\n",
      "{'r2': array([0.00362332]), 'k': 0.7890975425152176, 'k_dash': 0.8781051326293133, 'r2r0': array([135.79859925]), 'r2r0_dash': array([293.97806188]), 'r0r0_dash': array([0.57313417]), 'rm2': array([0.00108172]), 'rm2_dash': array([-0.00011621]), 'rm2_bar': array([0.00048275]), 'd_rm2': array([0.00119793])}\n",
      "{'r2': array([0.0052492]), 'k': 0.6390652053110638, 'k_dash': 1.2134731064482438, 'r2r0': array([17.79790675]), 'r2r0_dash': array([969.6165461]), 'r0r0_dash': array([4.99628946]), 'rm2': array([0.00364476]), 'rm2_dash': array([-0.00659321]), 'rm2_bar': array([-0.00147422]), 'd_rm2': array([0.01023797])}\n",
      "training\n",
      "{'r2': array([0.05980173]), 'k': 0.8686954962503727, 'k_dash': 0.8867889430532896, 'r2r0': array([6.3452479]), 'r2r0_dash': array([10.01407917]), 'r0r0_dash': array([0.21940247]), 'rm2': array([0.02296383]), 'rm2_dash': array([0.01352356]), 'rm2_bar': array([0.01824369]), 'd_rm2': array([0.00944026])}\n",
      "{'r2': array([0.1403734]), 'k': 0.8869366964284221, 'k_dash': 0.9000531549887514, 'r2r0': array([2.13338646]), 'r2r0_dash': array([2.50067197]), 'r0r0_dash': array([0.05155712]), 'rm2': array([0.06355558]), 'rm2_dash': array([0.05720553]), 'rm2_bar': array([0.06038055]), 'd_rm2': array([0.00635005])}\n",
      "{'r2': array([0.1008037]), 'k': 0.7277167243966146, 'k_dash': 1.1050938929453882, 'r2r0': array([2.24165993]), 'r2r0_dash': array([6.53943006]), 'r0r0_dash': array([0.43323113]), 'rm2': array([0.0528856]), 'rm2_dash': array([0.01896011]), 'rm2_bar': array([0.03592286]), 'd_rm2': array([0.03392549])}\n",
      "{'r2': array([0.71006514]), 'k': 0.9788943527523057, 'k_dash': 0.9700154591641921, 'r2r0': array([1.79056169e-05]), 'r2r0_dash': array([0.13339017]), 'r0r0_dash': array([0.094703]), 'rm2': array([0.70753326]), 'rm2_dash': array([0.49153608]), 'rm2_bar': array([0.59953467]), 'd_rm2': array([0.21599719])}\n",
      "{'r2': array([0.01923238]), 'k': 0.8021271894684238, 'k_dash': 0.9396428216169724, 'r2r0': array([22.59142796]), 'r2r0_dash': array([46.78110888]), 'r0r0_dash': array([0.4652251]), 'rm2': array([0.00655524]), 'rm2_dash': array([0.00098986]), 'rm2_bar': array([0.00377255]), 'd_rm2': array([0.00556538])}\n",
      "{'r2': array([0.0590556]), 'k': 0.7411512608119237, 'k_dash': 1.0578802992431557, 'r2r0': array([5.07972888]), 'r2r0_dash': array([12.97600156]), 'r0r0_dash': array([0.46631913]), 'rm2': array([0.02671025]), 'rm2_dash': array([0.00735899]), 'rm2_bar': array([0.01703462]), 'd_rm2': array([0.01935126])}\n",
      "{'r2': array([0.10489361]), 'k': 0.8174996260268763, 'k_dash': 0.9734010050314381, 'r2r0': array([2.65564298]), 'r2r0_dash': array([4.96665313]), 'r0r0_dash': array([0.2424102]), 'rm2': array([0.04953204]), 'rm2_dash': array([0.02918322]), 'rm2_bar': array([0.03935763]), 'd_rm2': array([0.02034882])}\n",
      "{'r2': array([0.12029715]), 'k': 0.857131855247109, 'k_dash': 0.9334076920788644, 'r2r0': array([2.2383178]), 'r2r0_dash': array([3.89458011]), 'r0r0_dash': array([0.19924363]), 'rm2': array([0.05787426]), 'rm2_dash': array([0.03795668]), 'rm2_bar': array([0.04791547]), 'd_rm2': array([0.01991758])}\n",
      "{'r2': array([0.04256829]), 'k': 0.7457107130086652, 'k_dash': 1.0657524093134145, 'r2r0': array([5.21631394]), 'r2r0_dash': array([28.85583747]), 'r0r0_dash': array([1.00629404]), 'rm2': array([0.0225092]), 'rm2_dash': array([-0.00461043]), 'rm2_bar': array([0.00894939]), 'd_rm2': array([0.02711963])}\n"
     ]
    }
   ],
   "source": [
    "print(qsar3gelu)\n",
    "print(qsar3relu)\n",
    "print(qsar3tanh)\n",
    "print(qsar4gelu)\n",
    "print(qsar4relu)\n",
    "print(qsar4tanh)\n",
    "print(qsar5gelu)\n",
    "print(qsar5relu)\n",
    "print(qsar5tanh)\n",
    "print(\"training\")\n",
    "print(qsar3gelut)\n",
    "print(qsar3relut)\n",
    "print(qsar3tanht)\n",
    "print(qsar4gelut)\n",
    "print(qsar4relut)\n",
    "print(qsar4tanht)\n",
    "print(qsar5gelut)\n",
    "print(qsar5relut)\n",
    "print(qsar5tanht)"
   ]
  },
  {
   "cell_type": "code",
   "execution_count": 186,
   "metadata": {},
   "outputs": [
    {
     "name": "stdout",
     "output_type": "stream",
     "text": [
      "{'r2': 0.6854, 'k': 0.9209, 'k_dash': 1.0154, 'r2r0': 0.0, 'r2r0_dash': 0.1693, 'r0r0_dash': 0.116, 'rm2': 0.6844, 'rm2_dash': 0.4519, 'rm2_bar': 0.5682, 'd_rm2': 0.2325}\n",
      "{'r2': 0.5397, 'k': 0.8248, 'k_dash': 1.0933, 'r2r0': 0.0292, 'r2r0_dash': 0.25, 'r0r0_dash': 0.1192, 'rm2': 0.472, 'rm2_dash': 0.3415, 'rm2_bar': 0.4067, 'd_rm2': 0.1305}\n",
      "{'r2': 0.6739, 'k': 0.8507, 'k_dash': 1.096, 'r2r0': 0.0023, 'r2r0_dash': 0.2522, 'r0r0_dash': 0.1685, 'rm2': 0.6477, 'rm2_dash': 0.3961, 'rm2_bar': 0.5219, 'd_rm2': 0.2516}\n",
      "{'r2': 0.6714, 'k': 0.7535, 'k_dash': 1.2368, 'r2r0': 0.0018, 'r2r0_dash': 0.2498, 'r0r0_dash': 0.1665, 'rm2': 0.648, 'rm2_dash': 0.3965, 'rm2_bar': 0.5222, 'd_rm2': 0.2515}\n",
      "{'r2': 0.6905, 'k': 0.8798, 'k_dash': 1.0635, 'r2r0': 0.003, 'r2r0_dash': 0.2304, 'r0r0_dash': 0.157, 'rm2': 0.6591, 'rm2_dash': 0.4151, 'rm2_bar': 0.5371, 'd_rm2': 0.2441}\n",
      "training\n",
      "{'r2': 0.7637, 'k': 0.87, 'k_dash': 1.1022, 'r2r0': 0.0001, 'r2r0_dash': 0.0735, 'r0r0_dash': 0.0561, 'rm2': 0.7584, 'rm2_dash': 0.5828, 'rm2_bar': 0.6706, 'd_rm2': 0.1756}\n",
      "{'r2': 0.7215, 'k': 0.8324, 'k_dash': 1.1422, 'r2r0': 0.0062, 'r2r0_dash': 0.0635, 'r0r0_dash': 0.0413, 'rm2': 0.6735, 'rm2_dash': 0.5671, 'rm2_bar': 0.6203, 'd_rm2': 0.1063}\n",
      "{'r2': 0.7604, 'k': 0.8658, 'k_dash': 1.1068, 'r2r0': 0.0003, 'r2r0_dash': 0.0955, 'r0r0_dash': 0.0724, 'rm2': 0.7489, 'rm2_dash': 0.5555, 'rm2_bar': 0.6522, 'd_rm2': 0.1934}\n",
      "{'r2': 0.6776, 'k': 0.73, 'k_dash': 1.2931, 'r2r0': 0.0, 'r2r0_dash': 0.1852, 'r0r0_dash': 0.1255, 'rm2': 0.6768, 'rm2_dash': 0.4376, 'rm2_bar': 0.5572, 'd_rm2': 0.2392}\n",
      "{'r2': 0.775, 'k': 0.8499, 'k_dash': 1.1305, 'r2r0': 0.0005, 'r2r0_dash': 0.0556, 'r0r0_dash': 0.0427, 'rm2': 0.7596, 'rm2_dash': 0.614, 'rm2_bar': 0.6868, 'd_rm2': 0.1455}\n"
     ]
    }
   ],
   "source": [
    "formatted_qsarbest10 = {k: round(v[0], 4) if isinstance(v, np.ndarray) else round(v, 4) if isinstance(v, float) else v for k, v in qsarbest10.items()}\n",
    "print(formatted_qsarbest10)\n",
    "\n",
    "formatted_qsarbest20 = {k: round(v[0], 4) if isinstance(v, np.ndarray) else round(v, 4) if isinstance(v, float) else v for k, v in qsarbest20.items()}\n",
    "print(formatted_qsarbest20)\n",
    "\n",
    "formatted_qsarbest30 = {k: round(v[0], 4) if isinstance(v, np.ndarray) else round(v, 4) if isinstance(v, float) else v for k, v in qsarbest30.items()}\n",
    "print(formatted_qsarbest30)\n",
    "\n",
    "formatted_qsarbest40 = {k: round(v[0], 4) if isinstance(v, np.ndarray) else round(v, 4) if isinstance(v, float) else v for k, v in qsarbest40.items()}\n",
    "print(formatted_qsarbest40)\n",
    "\n",
    "formatted_qsarbest50 = {k: round(v[0], 4) if isinstance(v, np.ndarray) else round(v, 4) if isinstance(v, float) else v for k, v in qsarbest50.items()}\n",
    "print(formatted_qsarbest50)\n",
    "\n",
    "print(\"training\")\n",
    "\n",
    "formatted_qsarbest10t = {k: round(v[0], 4) if isinstance(v, np.ndarray) else round(v, 4) if isinstance(v, float) else v for k, v in qsarbest10t.items()}\n",
    "print(formatted_qsarbest10t)\n",
    "\n",
    "formatted_qsarbest20t = {k: round(v[0], 4) if isinstance(v, np.ndarray) else round(v, 4) if isinstance(v, float) else v for k, v in qsarbest20t.items()}\n",
    "print(formatted_qsarbest20t)\n",
    "\n",
    "formatted_qsarbest30t = {k: round(v[0], 4) if isinstance(v, np.ndarray) else round(v, 4) if isinstance(v, float) else v for k, v in qsarbest30t.items()}\n",
    "print(formatted_qsarbest30t)\n",
    "\n",
    "formatted_qsarbest40t = {k: round(v[0], 4) if isinstance(v, np.ndarray) else round(v, 4) if isinstance(v, float) else v for k, v in qsarbest40t.items()}\n",
    "print(formatted_qsarbest40t)\n",
    "\n",
    "formatted_qsarbest50t = {k: round(v[0], 4) if isinstance(v, np.ndarray) else round(v, 4) if isinstance(v, float) else v for k, v in qsarbest50t.items()}\n",
    "print(formatted_qsarbest50t)"
   ]
  },
  {
   "cell_type": "code",
   "execution_count": 187,
   "metadata": {},
   "outputs": [
    {
     "name": "stdout",
     "output_type": "stream",
     "text": [
      "{'r2': 0.0, 'k': 0.8048, 'k_dash': 0.8216, 'r2r0': 1112636.5474, 'r2r0_dash': 1791087.7291, 'r0r0_dash': 0.3915, 'rm2': 0.0, 'rm2_dash': -0.0, 'rm2_bar': 0.0, 'd_rm2': 0.0}\n",
      "{'r2': 0.0086, 'k': 0.8929, 'k_dash': 0.7839, 'r2r0': 53.7241, 'r2r0_dash': 113.4351, 'r0r0_dash': 0.5143, 'rm2': 0.0028, 'rm2_dash': 0.0001, 'rm2_bar': 0.0014, 'd_rm2': 0.0027}\n",
      "{'r2': 0.0092, 'k': 0.6669, 'k_dash': 1.1181, 'r2r0': 26.3726, 'r2r0_dash': 205.6905, 'r0r0_dash': 1.6441, 'rm2': 0.0047, 'rm2_dash': -0.0034, 'rm2_bar': 0.0006, 'd_rm2': 0.0081}\n",
      "{'r2': 0.644, 'k': 0.9744, 'k_dash': 0.9501, 'r2r0': 0.006, 'r2r0_dash': 0.3811, 'r0r0_dash': 0.2415, 'rm2': 0.6039, 'rm2_dash': 0.325, 'rm2_bar': 0.4644, 'd_rm2': 0.279}\n",
      "{'r2': 0.004, 'k': 0.8271, 'k_dash': 0.7676, 'r2r0': 192.4708, 'r2r0_dash': 269.5747, 'r0r0_dash': 0.3098, 'rm2': 0.0005, 'rm2_dash': -0.0002, 'rm2_bar': 0.0002, 'd_rm2': 0.0006}\n",
      "{'r2': 0.0069, 'k': 0.6559, 'k_dash': 1.1616, 'r2r0': 23.3019, 'r2r0_dash': 428.3886, 'r0r0_dash': 2.7956, 'rm2': 0.0041, 'rm2_dash': -0.005, 'rm2_bar': -0.0004, 'd_rm2': 0.0091}\n",
      "{'r2': 0.001, 'k': 0.7742, 'k_dash': 0.8901, 'r2r0': 505.6351, 'r2r0_dash': 1170.0214, 'r0r0_dash': 0.6668, 'rm2': 0.0003, 'rm2_dash': -0.0001, 'rm2_bar': 0.0001, 'd_rm2': 0.0004}\n",
      "{'r2': 0.0036, 'k': 0.7891, 'k_dash': 0.8781, 'r2r0': 135.7986, 'r2r0_dash': 293.9781, 'r0r0_dash': 0.5731, 'rm2': 0.0011, 'rm2_dash': -0.0001, 'rm2_bar': 0.0005, 'd_rm2': 0.0012}\n",
      "{'r2': 0.0052, 'k': 0.6391, 'k_dash': 1.2135, 'r2r0': 17.7979, 'r2r0_dash': 969.6165, 'r0r0_dash': 4.9963, 'rm2': 0.0036, 'rm2_dash': -0.0066, 'rm2_bar': -0.0015, 'd_rm2': 0.0102}\n",
      "training\n",
      "{'r2': 0.0598, 'k': 0.8687, 'k_dash': 0.8868, 'r2r0': 6.3452, 'r2r0_dash': 10.0141, 'r0r0_dash': 0.2194, 'rm2': 0.023, 'rm2_dash': 0.0135, 'rm2_bar': 0.0182, 'd_rm2': 0.0094}\n",
      "{'r2': 0.1404, 'k': 0.8869, 'k_dash': 0.9001, 'r2r0': 2.1334, 'r2r0_dash': 2.5007, 'r0r0_dash': 0.0516, 'rm2': 0.0636, 'rm2_dash': 0.0572, 'rm2_bar': 0.0604, 'd_rm2': 0.0064}\n",
      "{'r2': 0.1008, 'k': 0.7277, 'k_dash': 1.1051, 'r2r0': 2.2417, 'r2r0_dash': 6.5394, 'r0r0_dash': 0.4332, 'rm2': 0.0529, 'rm2_dash': 0.019, 'rm2_bar': 0.0359, 'd_rm2': 0.0339}\n",
      "{'r2': 0.7101, 'k': 0.9789, 'k_dash': 0.97, 'r2r0': 0.0, 'r2r0_dash': 0.1334, 'r0r0_dash': 0.0947, 'rm2': 0.7075, 'rm2_dash': 0.4915, 'rm2_bar': 0.5995, 'd_rm2': 0.216}\n",
      "{'r2': 0.0192, 'k': 0.8021, 'k_dash': 0.9396, 'r2r0': 22.5914, 'r2r0_dash': 46.7811, 'r0r0_dash': 0.4652, 'rm2': 0.0066, 'rm2_dash': 0.001, 'rm2_bar': 0.0038, 'd_rm2': 0.0056}\n",
      "{'r2': 0.0591, 'k': 0.7412, 'k_dash': 1.0579, 'r2r0': 5.0797, 'r2r0_dash': 12.976, 'r0r0_dash': 0.4663, 'rm2': 0.0267, 'rm2_dash': 0.0074, 'rm2_bar': 0.017, 'd_rm2': 0.0194}\n",
      "{'r2': 0.1049, 'k': 0.8175, 'k_dash': 0.9734, 'r2r0': 2.6556, 'r2r0_dash': 4.9667, 'r0r0_dash': 0.2424, 'rm2': 0.0495, 'rm2_dash': 0.0292, 'rm2_bar': 0.0394, 'd_rm2': 0.0203}\n",
      "{'r2': 0.1203, 'k': 0.8571, 'k_dash': 0.9334, 'r2r0': 2.2383, 'r2r0_dash': 3.8946, 'r0r0_dash': 0.1992, 'rm2': 0.0579, 'rm2_dash': 0.038, 'rm2_bar': 0.0479, 'd_rm2': 0.0199}\n",
      "{'r2': 0.0426, 'k': 0.7457, 'k_dash': 1.0658, 'r2r0': 5.2163, 'r2r0_dash': 28.8558, 'r0r0_dash': 1.0063, 'rm2': 0.0225, 'rm2_dash': -0.0046, 'rm2_bar': 0.0089, 'd_rm2': 0.0271}\n"
     ]
    }
   ],
   "source": [
    "formatted_qsar3gelu = {k: round(v[0], 4) if isinstance(v, np.ndarray) else round(v, 4) if isinstance(v, float) else v for k, v in qsar3gelu.items()}\n",
    "print(formatted_qsar3gelu)\n",
    "\n",
    "formatted_qsar3relu = {k: round(v[0], 4) if isinstance(v, np.ndarray) else round(v, 4) if isinstance(v, float) else v for k, v in qsar3relu.items()}\n",
    "print(formatted_qsar3relu)\n",
    "\n",
    "formatted_qsar3tanh = {k: round(v[0], 4) if isinstance(v, np.ndarray) else round(v, 4) if isinstance(v, float) else v for k, v in qsar3tanh.items()}\n",
    "print(formatted_qsar3tanh)\n",
    "\n",
    "formatted_qsar4gelu = {k: round(v[0], 4) if isinstance(v, np.ndarray) else round(v, 4) if isinstance(v, float) else v for k, v in qsar4gelu.items()}\n",
    "print(formatted_qsar4gelu)\n",
    "\n",
    "formatted_qsar4relu = {k: round(v[0], 4) if isinstance(v, np.ndarray) else round(v, 4) if isinstance(v, float) else v for k, v in qsar4relu.items()}\n",
    "print(formatted_qsar4relu)\n",
    "\n",
    "formatted_qsar4tanh = {k: round(v[0], 4) if isinstance(v, np.ndarray) else round(v, 4) if isinstance(v, float) else v for k, v in qsar4tanh.items()}\n",
    "print(formatted_qsar4tanh)\n",
    "\n",
    "formatted_qsar5gelu = {k: round(v[0], 4) if isinstance(v, np.ndarray) else round(v, 4) if isinstance(v, float) else v for k, v in qsar5gelu.items()}\n",
    "print(formatted_qsar5gelu)\n",
    "\n",
    "formatted_qsar5relu = {k: round(v[0], 4) if isinstance(v, np.ndarray) else round(v, 4) if isinstance(v, float) else v for k, v in qsar5relu.items()}\n",
    "print(formatted_qsar5relu)\n",
    "\n",
    "formatted_qsar5tanh = {k: round(v[0], 4) if isinstance(v, np.ndarray) else round(v, 4) if isinstance(v, float) else v for k, v in qsar5tanh.items()}\n",
    "print(formatted_qsar5tanh)\n",
    "\n",
    "print(\"training\")\n",
    "\n",
    "formatted_qsar3gelut = {k: round(v[0], 4) if isinstance(v, np.ndarray) else round(v, 4) if isinstance(v, float) else v for k, v in qsar3gelut.items()}\n",
    "print(formatted_qsar3gelut)\n",
    "\n",
    "formatted_qsar3relut = {k: round(v[0], 4) if isinstance(v, np.ndarray) else round(v, 4) if isinstance(v, float) else v for k, v in qsar3relut.items()}\n",
    "print(formatted_qsar3relut)\n",
    "\n",
    "formatted_qsar3tanht = {k: round(v[0], 4) if isinstance(v, np.ndarray) else round(v, 4) if isinstance(v, float) else v for k, v in qsar3tanht.items()}\n",
    "print(formatted_qsar3tanht)\n",
    "\n",
    "formatted_qsar4gelut = {k: round(v[0], 4) if isinstance(v, np.ndarray) else round(v, 4) if isinstance(v, float) else v for k, v in qsar4gelut.items()}\n",
    "print(formatted_qsar4gelut)\n",
    "\n",
    "formatted_qsar4relut = {k: round(v[0], 4) if isinstance(v, np.ndarray) else round(v, 4) if isinstance(v, float) else v for k, v in qsar4relut.items()}\n",
    "print(formatted_qsar4relut)\n",
    "\n",
    "formatted_qsar4tanht = {k: round(v[0], 4) if isinstance(v, np.ndarray) else round(v, 4) if isinstance(v, float) else v for k, v in qsar4tanht.items()}\n",
    "print(formatted_qsar4tanht)\n",
    "\n",
    "formatted_qsar5gelut = {k: round(v[0], 4) if isinstance(v, np.ndarray) else round(v, 4) if isinstance(v, float) else v for k, v in qsar5gelut.items()}\n",
    "print(formatted_qsar5gelut)\n",
    "\n",
    "formatted_qsar5relut = {k: round(v[0], 4) if isinstance(v, np.ndarray) else round(v, 4) if isinstance(v, float) else v for k, v in qsar5relut.items()}\n",
    "print(formatted_qsar5relut)\n",
    "\n",
    "formatted_qsar5tanht = {k: round(v[0], 4) if isinstance(v, np.ndarray) else round(v, 4) if isinstance(v, float) else v for k, v in qsar5tanht.items()}\n",
    "print(formatted_qsar5tanht)"
   ]
  },
  {
   "cell_type": "code",
   "execution_count": null,
   "metadata": {},
   "outputs": [],
   "source": [
    "{'k': 0.8687, 'r2r0': 6.3452, 'r0r0_dash': 0.2194, 'rm2_bar': 0.0182, 'd_rm2': 0.0094}\n",
    "{'k': 0.8869, 'r2r0': 2.1334, 'r0r0_dash': 0.0516, 'rm2_bar': 0.0604, 'd_rm2': 0.0064}\n",
    "{'k': 0.7277, 'r2r0': 2.2417, 'r0r0_dash': 0.4332, 'rm2_bar': 0.0359, 'd_rm2': 0.0339}\n",
    "{'k': 0.9789, 'r2r0': 0.0,    'r0r0_dash': 0.0947, 'rm2_bar': 0.5995, 'd_rm2': 0.216}\n",
    "{'k': 0.8021, 'r2r0': 22.5914,'r0r0_dash': 0.4652, 'rm2_bar': 0.0038, 'd_rm2': 0.0056}\n",
    "{'k': 0.7412, 'r2r0': 5.0797, 'r0r0_dash': 0.4663, 'rm2_bar': 0.017,  'd_rm2': 0.0194}\n",
    "{'k': 0.8175, 'r2r0': 2.6556, 'r0r0_dash': 0.2424, 'rm2_bar': 0.0394, 'd_rm2': 0.0203}\n",
    "{'k': 0.8571, 'r2r0': 2.2383, 'r0r0_dash': 0.1992, 'rm2_bar': 0.0479, 'd_rm2': 0.0199}\n",
    "{'k': 0.7457, 'r2r0': 5.2163, 'r0r0_dash': 1.0063, 'rm2_bar': 0.0089, 'd_rm2': 0.0271}\n",
    "test\n",
    "{'k': 0.8048, 'r2r0': 1112636.5474, 'r0r0_dash': 0.3915, 'rm2_bar': 0.0, 'd_rm2': 0.0}\n",
    "{'k': 0.8929, 'r2r0': 53.7241,      'r0r0_dash': 0.5143, 'rm2_bar': 0.0014, 'd_rm2': 0.0027}\n",
    "{'k': 0.6669, 'r2r0': 26.3726,      'r0r0_dash': 1.6441, 'rm2_bar': 0.0006, 'd_rm2': 0.0081}\n",
    "{'k': 0.9744, 'r2r0': 0.006,        'r0r0_dash': 0.2415, 'rm2_bar': 0.4644, 'd_rm2': 0.279}\n",
    "{'k': 0.8271, 'r2r0': 192.4708,     'r0r0_dash': 0.3098, 'rm2_bar': 0.0002, 'd_rm2': 0.0006}\n",
    "{'k': 0.6559, 'r2r0': 23.3019,      'r0r0_dash': 2.7956, 'rm2_bar': -0.0004, 'd_rm2': 0.0091}\n",
    "{'k': 0.7742, 'r2r0': 505.6351,     'r0r0_dash': 0.6668, 'rm2_bar': 0.0001, 'd_rm2': 0.0004}\n",
    "{'k': 0.7891, 'r2r0': 135.7986,     'r0r0_dash': 0.5731, 'rm2_bar': 0.0005, 'd_rm2': 0.0012}\n",
    "{'k': 0.6391, 'r2r0': 17.7979,      'r0r0_dash': 4.9963, 'rm2_bar': -0.0015, 'd_rm2': 0.0102}\n"
   ]
  }
 ],
 "metadata": {
  "kernelspec": {
   "display_name": "Python 3",
   "language": "python",
   "name": "python3"
  },
  "language_info": {
   "codemirror_mode": {
    "name": "ipython",
    "version": 3
   },
   "file_extension": ".py",
   "mimetype": "text/x-python",
   "name": "python",
   "nbconvert_exporter": "python",
   "pygments_lexer": "ipython3",
   "version": "3.12.3"
  }
 },
 "nbformat": 4,
 "nbformat_minor": 2
}
